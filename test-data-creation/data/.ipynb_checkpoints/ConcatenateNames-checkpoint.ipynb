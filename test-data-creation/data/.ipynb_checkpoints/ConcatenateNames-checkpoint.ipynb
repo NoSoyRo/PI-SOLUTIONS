{
 "cells": [
  {
   "cell_type": "code",
   "execution_count": 1,
   "id": "69ece587",
   "metadata": {},
   "outputs": [],
   "source": [
    "import pandas as pd"
   ]
  },
  {
   "cell_type": "code",
   "execution_count": 12,
   "id": "817b945e",
   "metadata": {},
   "outputs": [],
   "source": [
    "hombres = pd.read_csv(\"nombres/male-names.csv\")\n",
    "mujeres = pd.read_csv(\"nombres/female-names.csv\")\n",
    "arr = [hombres, mujeres]"
   ]
  },
  {
   "cell_type": "code",
   "execution_count": 15,
   "id": "44fbf1a3",
   "metadata": {},
   "outputs": [],
   "source": [
    "new = pd.concat(arr)"
   ]
  },
  {
   "cell_type": "code",
   "execution_count": 16,
   "id": "a46544a2",
   "metadata": {},
   "outputs": [],
   "source": [
    "shuffled = new.sample(frac = 1, random_state = 1).reset_index()"
   ]
  },
  {
   "cell_type": "code",
   "execution_count": 19,
   "id": "0c2ab38f",
   "metadata": {},
   "outputs": [],
   "source": [
    "shuffled[\"name\"].to_csv(\"nombres/concatnames.csv\")"
   ]
  },
  {
   "cell_type": "code",
   "execution_count": null,
   "id": "e8cf624a",
   "metadata": {},
   "outputs": [],
   "source": []
  }
 ],
 "metadata": {
  "kernelspec": {
   "display_name": "Python 3 (ipykernel)",
   "language": "python",
   "name": "python3"
  },
  "language_info": {
   "codemirror_mode": {
    "name": "ipython",
    "version": 3
   },
   "file_extension": ".py",
   "mimetype": "text/x-python",
   "name": "python",
   "nbconvert_exporter": "python",
   "pygments_lexer": "ipython3",
   "version": "3.8.12"
  }
 },
 "nbformat": 4,
 "nbformat_minor": 5
}
